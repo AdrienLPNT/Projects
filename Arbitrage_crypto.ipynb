{
  "nbformat": 4,
  "nbformat_minor": 0,
  "metadata": {
    "colab": {
      "provenance": [],
      "authorship_tag": "ABX9TyO3tHEx4T51Nzg5RKXZR/cv",
      "include_colab_link": true
    },
    "kernelspec": {
      "name": "python3",
      "display_name": "Python 3"
    },
    "language_info": {
      "name": "python"
    }
  },
  "cells": [
    {
      "cell_type": "markdown",
      "metadata": {
        "id": "view-in-github",
        "colab_type": "text"
      },
      "source": [
        "<a href=\"https://colab.research.google.com/github/AdrienLPNT/Projects/blob/main/Arbitrage_crypto.ipynb\" target=\"_parent\"><img src=\"https://colab.research.google.com/assets/colab-badge.svg\" alt=\"Open In Colab\"/></a>"
      ]
    },
    {
      "cell_type": "markdown",
      "source": [
        "Import libraries"
      ],
      "metadata": {
        "id": "-uFu8uAKM9H9"
      }
    },
    {
      "cell_type": "code",
      "execution_count": 1,
      "metadata": {
        "id": "b7wkDYYUM3ks"
      },
      "outputs": [],
      "source": [
        "import json\n",
        "import requests\n",
        "import time\n",
        "import numpy as np\n",
        "import matplotlib.pyplot as plt"
      ]
    },
    {
      "cell_type": "markdown",
      "source": [
        "Defining key/request url"
      ],
      "metadata": {
        "id": "0zw0neggNK47"
      }
    },
    {
      "cell_type": "code",
      "source": [
        "key=[\"https://api.binance.com/api/v3/ticker/price?symbol=XRPBTC\",\n",
        "\"https://api.binance.com/api/v3/ticker/price?symbol=BTCUSDT\",\n",
        "\"https://api.binance.com/api/v3/ticker/price?symbol=XRPUSDT\"]\n",
        "ldata = [0,0,0]"
      ],
      "metadata": {
        "id": "IaiqidAjNLIs"
      },
      "execution_count": 2,
      "outputs": []
    },
    {
      "cell_type": "markdown",
      "source": [
        "Requesting Data from url"
      ],
      "metadata": {
        "id": "rUWif4XFNRtL"
      }
    },
    {
      "cell_type": "code",
      "source": [
        "j = 0\n",
        "ymin = 0.95\n",
        "ymax = 1.05\n",
        "for i in range(20):\n",
        "    j+=1\n",
        "    for i in range(3):\n",
        "        data = requests.get(key[i])  \n",
        "        data = data.json()\n",
        "        ldata[i] = float(data['price'])\n",
        "    num = ldata[0]*ldata[1]/ldata[2]\n",
        "    #plt.scatter(j, num)\n",
        "    #plt.xlim(j-10,j+1)\n",
        "    #plt.pause(0.01)\n",
        "    print(num)"
      ],
      "metadata": {
        "colab": {
          "base_uri": "https://localhost:8080/"
        },
        "id": "go1WFKIYNSIL",
        "outputId": "1a54bdde-5ffa-4675-be81-625827df3b84"
      },
      "execution_count": 6,
      "outputs": [
        {
          "output_type": "stream",
          "name": "stdout",
          "text": [
            "0.9999977162683115\n",
            "0.9999540693909021\n",
            "0.9999540693909021\n",
            "0.9999679336931377\n",
            "0.999740313740605\n",
            "0.9997408271343226\n",
            "0.9997398003468876\n",
            "0.9997824120254383\n",
            "0.9997803584505683\n",
            "0.9998096218924648\n",
            "0.9997603360955867\n",
            "0.9998306710348814\n",
            "0.99980448795529\n",
            "0.99980243438042\n",
            "0.9997870325688958\n",
            "0.9998234835228367\n",
            "0.9998157826170745\n",
            "0.9998465862401232\n",
            "0.9998465862401232\n",
            "0.9998470996338407\n"
          ]
        }
      ]
    }
  ]
}